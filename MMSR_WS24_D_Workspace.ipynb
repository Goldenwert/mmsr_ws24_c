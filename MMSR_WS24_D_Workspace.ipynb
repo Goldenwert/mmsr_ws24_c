{
 "cells": [
  {
   "cell_type": "markdown",
   "id": "9df54240-1405-4403-9839-052fb3625ce6",
   "metadata": {},
   "source": [
    "<h1 style=\"color:grey\">Multimedia Search and Retrieval: Group D</h1>\n",
    "\n",
    "***"
   ]
  },
  {
   "cell_type": "markdown",
   "id": "8da96430-1357-4c53-aea4-148a1b62a11f",
   "metadata": {},
   "source": [
    "# 1. Fundamentals:\n",
    "### Baseline System:\n",
    "- Create a random retrieval system.\n",
    "- Implement accuracy metrics (e.g., Precision@10, Recall@10, NDCG@10, MRR).\n",
    "- Use genre as a relevance criterion.\n",
    "### Text-Based Retrieval:\n",
    "- Use TF-IDF representations of lyrics.\n",
    "- Compute rankings using cosine similarity.\n",
    "### User Interface:\n",
    "- Build a simple web-based UI.\n",
    "- Allow query selection and display retrieval results (optionally embed YouTube videos)."
   ]
  },
  {
   "cell_type": "markdown",
   "id": "3cc5a320-9f05-4b7e-aa40-d061a636a1e2",
   "metadata": {},
   "source": [
    "---\n",
    "#### Preparatory cells"
   ]
  },
  {
   "cell_type": "code",
   "execution_count": 107,
   "id": "6072e5aa-4e3f-4ff9-b296-82a281ac5f5d",
   "metadata": {},
   "outputs": [],
   "source": [
    "import pandas as pd\n",
    "import random\n",
    "import ast  # To parse string representations of lists\n",
    "import numpy as np\n",
    "from sklearn.metrics import ndcg_score"
   ]
  },
  {
   "cell_type": "code",
   "execution_count": 108,
   "id": "5d55cb26-dcc5-4fa6-9eae-dab5ec854051",
   "metadata": {},
   "outputs": [
    {
     "name": "stdout",
     "output_type": "stream",
     "text": [
      "                 id               artist              song  \\\n",
      "0  01rMxQv6vhyE1oQX  Against the Current    Chasing Ghosts   \n",
      "1  02ZnlCGZEbkfCDxo        Laura Pausini  Tra Te E Il Mare   \n",
      "2  04OjszRi9rC5BlHC         Grizzly Bear             Knife   \n",
      "3  04iitW3ffa0mhpx3                Ne-Yo  Miss Independent   \n",
      "4  04xUDjAYC14jsHyH           Jawbreaker     Jinx Removing   \n",
      "\n",
      "                                    album_name  \n",
      "0                                 In Our Bones  \n",
      "1  The Best of Laura Pausini - E Ritorno Da Te  \n",
      "2                                 Yellow House  \n",
      "3  Year Of The Gentleman (Bonus Track Edition)  \n",
      "4         24 Hour Revenge Therapy (Remastered)  \n",
      "                 id                                              genre\n",
      "0  01rMxQv6vhyE1oQX                               ['rock', 'pop punk']\n",
      "1  02ZnlCGZEbkfCDxo  ['pop', 'italian pop', 'latin', 'europop', 'am...\n",
      "2  04OjszRi9rC5BlHC  ['experimental', 'folk', 'lo fi', 'freak folk'...\n",
      "3  04iitW3ffa0mhpx3  ['pop', 'r b', 'hip hop', 'soul', 'rhythm and ...\n",
      "4  04xUDjAYC14jsHyH  ['punk', 'emo', 'post hardcore', 'post punk', ...\n"
     ]
    }
   ],
   "source": [
    "DATA_DIR = 'data/' \n",
    "\n",
    "#file paths\n",
    "INFORMATION_FILE = DATA_DIR + 'id_information_mmsr.tsv'\n",
    "GENRES_FILE = DATA_DIR + 'id_genres_mmsr.tsv'\n",
    "\n",
    "#track information\n",
    "information_df = pd.read_csv(INFORMATION_FILE, sep='\\t')\n",
    "\n",
    "#genres\n",
    "genres_df = pd.read_csv(GENRES_FILE, sep='\\t')\n",
    "\n",
    "print(information_df.head())\n",
    "print(genres_df.head())"
   ]
  },
  {
   "cell_type": "code",
   "execution_count": 109,
   "id": "651d37b3-5e83-4fd6-99b1-eca7d76baac8",
   "metadata": {},
   "outputs": [],
   "source": [
    "def parse_genres(genre_str):\n",
    "    try:\n",
    "        return ast.literal_eval(genre_str)\n",
    "    except:\n",
    "        return []\n",
    "\n",
    "genres_df['genre'] = genres_df['genre'].apply(parse_genres)\n",
    "\n",
    "catalog_df = pd.merge(information_df, genres_df, on='id', how='left')\n",
    "\n",
    "# Handle missing genres if any\n",
    "catalog_df['genre'] = catalog_df['genre'].apply(lambda x: x if isinstance(x, list) else [])"
   ]
  },
  {
   "cell_type": "code",
   "execution_count": null,
   "id": "bf33c2c9-02bc-4f0a-8b9d-7c561d6c5185",
   "metadata": {},
   "outputs": [],
   "source": [
    "\n"
   ]
  },
  {
   "cell_type": "markdown",
   "id": "091b9db1-3565-4a3a-93d6-282b38889983",
   "metadata": {},
   "source": [
    "---\n",
    "#### Subtask 1: Create a Simple Baseline System"
   ]
  },
  {
   "cell_type": "code",
   "execution_count": 110,
   "id": "6e6248be-43ab-4c02-92ee-d765e9c4a004",
   "metadata": {},
   "outputs": [],
   "source": [
    "def random_retrieval(query_track_id, catalog_df, N):\n",
    "    \"\"\"\n",
    "    Randomly selects N tracks from the catalog, excluding the query track.\n",
    "\n",
    "    Parameters:\n",
    "    - query_track_id (str): The ID of the query track.\n",
    "    - catalog_df (pd.DataFrame): The catalog containing all tracks.\n",
    "    - N (int): Number of tracks to retrieve.\n",
    "\n",
    "    Returns:\n",
    "    - retrieved_tracks (pd.DataFrame): DataFrame of retrieved tracks.\n",
    "    \"\"\"\n",
    "    #exclude the query track\n",
    "    candidates = catalog_df[catalog_df['id'] != query_track_id]\n",
    "    \n",
    "    #randomly sample N tracks\n",
    "    retrieved_tracks = candidates.sample(n=N, replace=False, random_state=random.randint(0, 1000000))\n",
    "    \n",
    "    return retrieved_tracks.reset_index(drop=True)"
   ]
  },
  {
   "cell_type": "code",
   "execution_count": 34,
   "id": "5cb1a10f-94b3-4ffe-9de5-d9d99e3e6d13",
   "metadata": {},
   "outputs": [
    {
     "name": "stdout",
     "output_type": "stream",
     "text": [
      "                 id                 artist                      song  \\\n",
      "0  xS5QSLNJ3SOVCFUK            Pat Benatar  In The Heat Of The Night   \n",
      "1  lYWQPI2TFoh8nSTC                   Blur                    Tender   \n",
      "2  hMoLbFgENhtFTrS7             Lucy Pearl                  Everyday   \n",
      "3  FiXIOm6C8woWhma4         Bat for Lashes                    Lilies   \n",
      "4  32m5suoC94ytD8Ed          Ariana Grande                   7 rings   \n",
      "5  RcOEUo7Nkj3CIPbF        Scissor Sisters           Only the Horses   \n",
      "6  5PsAhyXTxQowhIUu  Donavon Frankenreiter                On My Mind   \n",
      "7  CVirHSstAw0VXT6n          Big Time Rush                   Oh Yeah   \n",
      "8  aUeTyLDIpE8XdDK9        Tracy Ate A Bug            Schwarze Witwe   \n",
      "9  OnL2vyNc6akjB3kD               Paramore             Feeling Sorry   \n",
      "\n",
      "                         album_name  \n",
      "0          In The Heat Of The Night  \n",
      "1                                13  \n",
      "2                        Lucy Pearl  \n",
      "3  The Haunted Man (Deluxe Version)  \n",
      "4                     thank u, next  \n",
      "5                        Magic Hour  \n",
      "6             Donavon Frankenreiter  \n",
      "7                               BTR  \n",
      "8                #GenerationFallout  \n",
      "9                    brand new eyes  \n"
     ]
    }
   ],
   "source": [
    "#example with the track i=0\n",
    "query_track = catalog_df.iloc[0]\n",
    "query_id = query_track['id']\n",
    "N = 10\n",
    "\n",
    "retrieved = random_retrieval(query_id, catalog_df, N)\n",
    "print(retrieved[['id', 'artist', 'song', 'album_name']])"
   ]
  },
  {
   "cell_type": "markdown",
   "id": "5d5d4f0a-80cc-49e4-9898-e343e89e9b7f",
   "metadata": {},
   "source": [
    "---\n",
    "#### Subtask 2: Compute Accuracy Metrics for Baseline"
   ]
  },
  {
   "cell_type": "markdown",
   "id": "1a9b5eef-b6d1-4ed2-8a17-e68b030c8f84",
   "metadata": {},
   "source": [
    "Using genre as a relevance criterion, we need to extract the top genre. (a retrieved song is considered relevant if its top genre matches the top genre of the query)"
   ]
  },
  {
   "cell_type": "code",
   "execution_count": 112,
   "id": "0dde9800-21d3-4939-8548-84ba01be34b3",
   "metadata": {},
   "outputs": [
    {
     "name": "stdout",
     "output_type": "stream",
     "text": [
      "                 id     top_genre\n",
      "0  01rMxQv6vhyE1oQX          rock\n",
      "1  02ZnlCGZEbkfCDxo           pop\n",
      "2  04OjszRi9rC5BlHC  experimental\n",
      "3  04iitW3ffa0mhpx3           pop\n",
      "4  04xUDjAYC14jsHyH          punk\n"
     ]
    }
   ],
   "source": [
    "def get_top_genre(genres):\n",
    "    return genres[0] if genres else None\n",
    "\n",
    "catalog_df['top_genre'] = catalog_df['genre'].apply(get_top_genre)\n",
    "\n",
    "#example\n",
    "print(catalog_df[['id', 'top_genre']].head())"
   ]
  },
  {
   "cell_type": "markdown",
   "id": "1388b5a7-4a76-4a8c-b1e2-749721a0e6ad",
   "metadata": {},
   "source": [
    "To evaluate the performance of a retrieval system, we use several key metrics, here are they:"
   ]
  },
  {
   "cell_type": "markdown",
   "id": "0c7679e3-7bf1-4090-b263-244194d520b0",
   "metadata": {},
   "source": [
    "---\n",
    "##### 1. Precision@k\n",
    "\n",
    "Precision@k measures the proportion of relevant items in the top $k$ retrieved items. It is defined as:\n",
    "\n",
    "$$\n",
    "\\text{Precision@k} = \\frac{\\text{Number of Relevant Retrieved Items in Top } k}{k}\n",
    "$$\n",
    "\n",
    "Precision@k focuses on the accuracy of the retrieved results in the top $k$ and is not influenced by the total number of relevant items in the dataset."
   ]
  },
  {
   "cell_type": "code",
   "execution_count": null,
   "id": "75e1d4dc-fc63-40d7-9190-267a3374157c",
   "metadata": {},
   "outputs": [],
   "source": [
    "def precision_at_k(retrieved_ids, relevant_ids, k=10):\n",
    "    \"\"\"\n",
    "    Computes Precision@k\n",
    "    \"\"\"\n",
    "    retrieved_at_k = retrieved_ids[:k]\n",
    "    relevant_retrieved = set(retrieved_at_k) & set(relevant_ids)\n",
    "    return len(relevant_retrieved) / k"
   ]
  },
  {
   "cell_type": "markdown",
   "id": "dbb66d3b-0d1d-4f98-ae17-4d9a2e4c1ce9",
   "metadata": {},
   "source": [
    "---\n",
    "##### 2. Recall@k\n",
    "\n",
    "Recall@k measures the proportion of all relevant items that are retrieved in the top $k$ results. It is defined as:\n",
    "\n",
    "$$\n",
    "\\text{Recall@k} = \\frac{\\text{Number of Relevant Retrieved Items in Top } k}{\\text{Total Number of Relevant Items}}\n",
    "$$\n",
    "\n",
    "This metric emphasizes the completeness of retrieval by accounting for all relevant items."
   ]
  },
  {
   "cell_type": "code",
   "execution_count": null,
   "id": "7498d8b3-5431-43a6-8482-29ed06aa512c",
   "metadata": {},
   "outputs": [],
   "source": [
    "def recall_at_k(retrieved_ids, relevant_ids, k=10):\n",
    "    \"\"\"\n",
    "    Computes Recall@k\n",
    "    \"\"\"\n",
    "    retrieved_at_k = retrieved_ids[:k]\n",
    "    relevant_retrieved = set(retrieved_at_k) & set(relevant_ids)\n",
    "    total_relevant = len(relevant_ids)\n",
    "    return len(relevant_retrieved) / total_relevant if total_relevant > 0 else 0.0"
   ]
  },
  {
   "cell_type": "markdown",
   "id": "c52f97a6-6dd0-4d85-92d0-7333d604d4e7",
   "metadata": {},
   "source": [
    "---\n",
    "##### 3. NDCG@k (Normalized Discounted Cumulative Gain)\n",
    "\n",
    "NDCG@k evaluates the ranking quality of the retrieved items by considering both relevance and position. It is calculated as:\n",
    "\n",
    "$$\n",
    "\\text{NDCG@k} = \\frac{\\text{DCG@k}}{\\text{IDCG@k}}\n",
    "$$\n",
    "\n",
    "Where the Discounted Cumulative Gain (DCG) at $k$ is:\n",
    "\n",
    "$$\n",
    "\\text{DCG@k} = \\sum_{i=1}^{k} \\frac{2^{\\text{rel}_i} - 1}{\\log_2(i + 1)}\n",
    "$$\n",
    "\n",
    "The Ideal DCG (IDCG) is the DCG of an ideal ranking, where the most relevant items are ranked highest:\n",
    "\n",
    "$$\n",
    "\\text{IDCG@k} = \\sum_{i=1}^{k} \\frac{2^{\\text{rel}_i^\\text{ideal}} - 1}{\\log_2(i + 1)}\n",
    "$$\n",
    "\n",
    "NDCG@k normalizes the ranking score, making it comparable across different queries."
   ]
  },
  {
   "cell_type": "code",
   "execution_count": null,
   "id": "3968bf15-fd81-4862-a1ef-f64a65d963ec",
   "metadata": {},
   "outputs": [],
   "source": [
    "def ndcg_at_k(retrieved_ids, relevant_ids, k=10):\n",
    "    \"\"\"\n",
    "    Computes NDCG@k\n",
    "    \"\"\"\n",
    "    retrieved_at_k = retrieved_ids[:k]\n",
    "    relevance = [1 if track_id in relevant_ids else 0 for track_id in retrieved_at_k]\n",
    "    # NDCG expects a list of relevance lists\n",
    "    return ndcg_score([relevance], [relevance], k=k)"
   ]
  },
  {
   "cell_type": "markdown",
   "id": "26a15707-e117-42b7-acc1-4f93c3631860",
   "metadata": {},
   "source": [
    "---\n",
    "##### 4. MRR (Mean Reciprocal Rank)\n",
    "\n",
    "The Mean Reciprocal Rank (MRR) measures the average rank position of the first relevant item across multiple queries. It is defined as:\n",
    "\n",
    "$$\n",
    "\\text{MRR} = \\frac{1}{Q} \\sum_{q=1}^{Q} \\frac{1}{\\text{rank}_q}\n",
    "$$\n",
    "\n",
    "Where:\n",
    "- $Q$ is the number of queries.\n",
    "- $\\text{rank}_q$ is the position of the first relevant item for the $q^\\text{th}$ query.\n",
    "\n",
    "MRR focuses on the speed at which the first relevant item is retrieved."
   ]
  },
  {
   "cell_type": "code",
   "execution_count": 27,
   "id": "4a763fbb-7620-4b2f-b4ab-684a6b20e57c",
   "metadata": {},
   "outputs": [],
   "source": [
    "def mrr(retrieved_ids, relevant_ids):\n",
    "    \"\"\"\n",
    "    Computes Reciprocal Rank\n",
    "    \"\"\"\n",
    "    for rank, track_id in enumerate(retrieved_ids, start=1):\n",
    "        if track_id in relevant_ids:\n",
    "            return 1.0 / rank\n",
    "    return 0.0"
   ]
  },
  {
   "cell_type": "markdown",
   "id": "13abd8ce-9fbb-4269-924a-17a2c47d8344",
   "metadata": {},
   "source": [
    "---\n",
    "##### Evaluate the Random Baseline"
   ]
  },
  {
   "cell_type": "code",
   "execution_count": 60,
   "id": "e09f67f9-c9b0-4fbb-abfa-7dbd4473f4db",
   "metadata": {},
   "outputs": [
    {
     "name": "stdout",
     "output_type": "stream",
     "text": [
      "Random Baseline Metrics:\n",
      "Precision@10: 0.0490\n",
      "Recall@10: 0.0019\n",
      "NDCG@10: 0.3071\n",
      "MRR: 0.1114\n"
     ]
    }
   ],
   "source": [
    "def evaluate_random_baseline(catalog_df, N=10):\n",
    "    \"\"\"\n",
    "    Evaluates the random baseline retrieval system across all queries.\n",
    "    \n",
    "    Parameters:\n",
    "    - catalog_df (pd.DataFrame): The catalog containing all tracks with 'id' and 'top_genre'.\n",
    "    - N (int): Number of tracks to retrieve per query.\n",
    "    \n",
    "    Returns:\n",
    "    - metrics_dict (dict): Dictionary containing average Precision@10, Recall@10, NDCG@10, and MRR.\n",
    "    \"\"\"\n",
    "    precisions = []\n",
    "    recalls = []\n",
    "    ndcgs = []\n",
    "    mrrs = []\n",
    "    \n",
    "    #iterate over each track as a query\n",
    "    for index, query_track in catalog_df.iterrows():\n",
    "        query_id = query_track['id']\n",
    "        query_genre = query_track['top_genre']\n",
    "        \n",
    "        #if top_genre doesn't exist\n",
    "        if not query_genre:\n",
    "            continue\n",
    "        \n",
    "        #retrieve N tracks\n",
    "        retrieved_tracks = random_retrieval(query_id, catalog_df, N)\n",
    "        retrieved_ids = retrieved_tracks['id'].tolist()\n",
    "        \n",
    "        #define relevant\n",
    "        relevant_ids = catalog_df[catalog_df['top_genre'] == query_genre]['id'].tolist()\n",
    "        \n",
    "        #metrics\n",
    "        p = precision_at_k(retrieved_ids, relevant_ids, k=N)\n",
    "        r = recall_at_k(retrieved_ids, relevant_ids, k=N)\n",
    "        ndcg = ndcg_at_k(retrieved_ids, relevant_ids, k=N)\n",
    "        rr = mrr(retrieved_ids, relevant_ids)\n",
    "        \n",
    "        precisions.append(p)\n",
    "        recalls.append(r)\n",
    "        ndcgs.append(ndcg)\n",
    "        mrrs.append(rr)\n",
    "        \n",
    "    #aggregate metrics\n",
    "    metrics_dict = {\n",
    "        'Precision@10': np.mean(precisions),\n",
    "        'Recall@10': np.mean(recalls),\n",
    "        'NDCG@10': np.mean(ndcgs),\n",
    "        'MRR': np.mean(mrrs)\n",
    "    }\n",
    "    \n",
    "    return metrics_dict\n",
    "\n",
    "metrics = evaluate_random_baseline(catalog_df, N=10)\n",
    "\n",
    "#results\n",
    "print(\"Random Baseline Metrics:\")\n",
    "print(f\"Precision@10: {metrics['Precision@10']:.4f}\")\n",
    "print(f\"Recall@10: {metrics['Recall@10']:.4f}\")\n",
    "print(f\"NDCG@10: {metrics['NDCG@10']:.4f}\")\n",
    "print(f\"MRR: {metrics['MRR']:.4f}\")"
   ]
  },
  {
   "cell_type": "markdown",
   "id": "0aba39d3-7861-474f-8ffa-a4cb737cd746",
   "metadata": {},
   "source": [
    "---\n",
    "\n",
    "The results align with expectations for a random baseline:\n",
    "- Low precision and recall due to the absence of relevance-based ranking.\n",
    "- Not that low NDCG and MRR values arise from occasional favorable random placements of relevant items.\n",
    "\n",
    "These metrics serve as a benchmark to compare against more sophisticated retrieval systems."
   ]
  },
  {
   "cell_type": "markdown",
   "id": "24ac1684-87df-497a-a81d-eecd210ddc97",
   "metadata": {},
   "source": [
    "---\n",
    "#### Subtask 3: Implement and Evaluate a Text-Based Retrieval System Using TF-IDF"
   ]
  },
  {
   "cell_type": "code",
   "execution_count": null,
   "id": "c8193257-9741-4ffc-9369-95aef02e198f",
   "metadata": {},
   "outputs": [
    {
     "name": "stdout",
     "output_type": "stream",
     "text": [
      "Loaded tfidf_df successfully.\n",
      "\n",
      "Sample of tfidf_df:\n",
      "                 id  abl  accept    across  act  addict    afraid  age  \\\n",
      "0  h48f46ZsT9h0Z5Dm  0.0     0.0  0.000000  0.0     0.0  0.000000  0.0   \n",
      "1  PV5EXN6AIVBqvsLO  0.0     0.0  0.000000  0.0     0.0  0.327025  0.0   \n",
      "2  eFEY5JiDF3ZLpXBZ  0.0     0.0  0.143314  0.0     0.0  0.000000  0.0   \n",
      "3  VAWiymoCIYxhae3J  0.0     0.0  0.000000  0.0     0.0  0.000000  0.0   \n",
      "4  2H91WLAd7ZZJvAiw  0.0     0.0  0.000000  0.0     0.0  0.000000  0.0   \n",
      "\n",
      "        ago   ah  ...  yea      yeah  year  yellow  yes  yesterday  yet   yo  \\\n",
      "0  0.000000  0.0  ...  0.0  0.000000   0.0     0.0  0.0   0.149783  0.0  0.0   \n",
      "1  0.000000  0.0  ...  0.0  0.000000   0.0     0.0  0.0   0.000000  0.0  0.0   \n",
      "2  0.000000  0.0  ...  0.0  0.042526   0.0     0.0  0.0   0.000000  0.0  0.0   \n",
      "3  0.109514  0.0  ...  0.0  0.000000   0.0     0.0  0.0   0.000000  0.0  0.0   \n",
      "4  0.000000  0.0  ...  0.0  0.084732   0.0     0.0  0.0   0.000000  0.0  0.0   \n",
      "\n",
      "   young  youth  \n",
      "0    0.0    0.0  \n",
      "1    0.0    0.0  \n",
      "2    0.0    0.0  \n",
      "3    0.0    0.0  \n",
      "4    0.0    0.0  \n",
      "\n",
      "[5 rows x 1001 columns]\n",
      "\n",
      "Renamed 'song' column in tfidf_df to 'tfidf_song' to avoid duplication.\n",
      "\n",
      "Columns in catalog_df after merging TF-IDF:\n",
      "['id', 'artist', 'song', 'album_name', 'genre', 'top_genre', 'abl', 'accept', 'across', 'act', 'addict', 'afraid', 'age', 'ago', 'ah', 'ahead', 'ahh', 'air', 'aliv', 'almost', 'alon', 'along', 'alreadi', 'alright', 'also', 'although', 'alway', 'angel', 'anim', 'anoth', 'answer', 'anybodi', 'anymor', 'anyon', 'anyth', 'anyway', 'anywher', 'apart', 'appear', 'arm', 'around', 'arriv', 'ash', 'ask', 'asleep', 'ass', 'attack', 'attent', 'awak', 'away', 'ay', 'ba', 'babe', 'babi', 'back', 'bad', 'bag', 'ball', 'band', 'bang', 'bar', 'bare', 'battl', 'beach', 'bear', 'beast', 'beat', 'beauti', 'becom', 'bed', 'beg', 'begin', 'behind', 'believ', 'bell', 'belong', 'bend', 'beneath', 'besid', 'bet', 'beyond', 'big', 'bind', 'bird', 'bit', 'bitch', 'bite', 'bitter', 'black', 'blame', 'bleed', 'bless', 'blind', 'block', 'blood', 'blow', 'blue', 'boat', 'bodi', 'bomb', 'bone', 'book', 'boom', 'bore', 'bother', 'bottl', 'bottom', 'bounc', 'bout', 'bow', 'box', 'boy', 'brain', 'brand', 'brave', 'break', 'breath', 'breez', 'bridg', 'bright', 'bring', 'broken', 'brother', 'build', 'bullet', 'buri', 'burn', 'busi', 'buy', 'bye', 'call', 'calm', 'car', 'care', 'carri', 'case', 'cash', 'cast', 'cat', 'catch', 'celebr', 'chain', 'chanc', 'chang', 'chase', 'check', 'chest', 'child', 'choic', 'choos', 'chorus', 'christma', 'circl', 'citi', 'clean', 'clear', 'climb', 'clock', 'close', 'cloth', 'cloud', 'club', 'cmon', 'cold', 'color', 'come', 'comfort', 'comin', 'complet', 'confess', 'confus', 'connect', 'control', 'cool', 'corner', 'cos', 'could', 'count', 'countri', 'coupl', 'cours', 'cover', 'crack', 'crash', 'crawl', 'crazi', 'creat', 'cri', 'crime', 'cross', 'crowd', 'crown', 'cruel', 'crush', 'cup', 'curs', 'cut', 'cuz', 'da', 'daddi', 'damn', 'danc', 'danger', 'dare', 'dark', 'darl', 'dawn', 'day', 'de', 'dead', 'deal', 'dear', 'death', 'decid', 'deep', 'demon', 'deni', 'desert', 'deserv', 'desir', 'desper', 'destini', 'destroy', 'devil', 'diamond', 'dick', 'die', 'differ', 'dig', 'direct', 'dirt', 'dirti', 'disappear', 'distanc', 'do', 'doctor', 'dog', 'dollar', 'doo', 'door', 'doubt', 'drag', 'draw', 'dream', 'dress', 'dri', 'drift', 'drink', 'drive', 'drop', 'drown', 'drug', 'drum', 'drunk', 'dust', 'ear', 'earli', 'earth', 'easi', 'eat', 'echo', 'edg', 'eh', 'electr', 'els', 'embrac', 'emot', 'empti', 'end', 'endless', 'enemi', 'enjoy', 'enough', 'enter', 'eras', 'escap', 'etern', 'even', 'ever', 'everi', 'everybodi', 'everyday', 'everyon', 'everyth', 'everywher', 'evil', 'excus', 'exist', 'expect', 'explain', 'eye', 'face', 'fact', 'fade', 'fail', 'fair', 'faith', 'fake', 'fall', 'fame', 'famili', 'fantasi', 'far', 'fast', 'fate', 'father', 'fault', 'favorit', 'fear', 'feed', 'feel', 'feelin', 'field', 'fight', 'figur', 'fill', 'final', 'find', 'fine', 'finger', 'fire', 'first', 'fit', 'five', 'fix', 'flame', 'flash', 'flesh', 'fli', 'float', 'floor', 'flow', 'flower', 'focus', 'follow', 'fool', 'foot', 'forc', 'forev', 'forget', 'forgiv', 'form', 'forward', 'four', 'freak', 'free', 'freedom', 'freez', 'friend', 'front', 'fuck', 'fuckin', 'full', 'fun', 'funni', 'futur', 'game', 'garden', 'gate', 'get', 'gettin', 'ghost', 'gift', 'girl', 'give', 'glad', 'glass', 'glori', 'glow', 'go', 'god', 'gold', 'golden', 'gon', 'good', 'goodby', 'grab', 'grace', 'grave', 'great', 'green', 'grey', 'ground', 'grow', 'guess', 'guid', 'guitar', 'gun', 'guy', 'ha', 'hair', 'half', 'hand', 'hang', 'happen', 'happi', 'hard', 'hate', 'haunt', 'head', 'heal', 'hear', 'heart', 'heat', 'heaven', 'heavi', 'hell', 'hello', 'help', 'hero', 'hey', 'hide', 'high', 'hill', 'hip', 'histori', 'hit', 'hoe', 'hold', 'hole', 'holi', 'home', 'honest', 'honey', 'hope', 'hors', 'hot', 'hour', 'hous', 'hug', 'huh', 'human', 'hundr', 'hurri', 'hurt', 'ice', 'idea', 'ignor', 'illus', 'imagin', 'imma', 'innoc', 'insan', 'insid', 'instead', 'jesus', 'job', 'join', 'joke', 'joy', 'jump', 'keep', 'key', 'kick', 'kid', 'kill', 'killer', 'kind', 'king', 'kiss', 'knee', 'knife', 'knock', 'know', 'la', 'ladi', 'land', 'last', 'late', 'later', 'laugh', 'law', 'lay', 'lead', 'lean', 'learn', 'least', 'leav', 'left', 'leg', 'less', 'let', 'letter', 'liar', 'lie', 'life', 'lift', 'light', 'like', 'line', 'lip', 'listen', 'littl', 'live', 'livin', 'load', 'lock', 'lone', 'loneli', 'long', 'look', 'lookin', 'loos', 'lord', 'lose', 'lot', 'loud', 'love', 'lover', 'low', 'luck', 'lucki', 'machin', 'mad', 'magic', 'make', 'mama', 'man', 'mani', 'march', 'mari', 'mark', 'marri', 'matter', 'may', 'mayb', 'mean', 'meet', 'melodi', 'melt', 'memori', 'merci', 'mess', 'messag', 'middl', 'midnight', 'mile', 'million', 'mind', 'mine', 'minut', 'miracl', 'mirror', 'miseri', 'miss', 'mistak', 'mmm', 'mom', 'moment', 'money', 'moon', 'moonlight', 'morn', 'mother', 'motherfuck', 'mountain', 'mouth', 'move', 'movi', 'mr', 'much', 'murder', 'music', 'must', 'mysteri', 'na', 'nah', 'nake', 'name', 'natur', 'near', 'neck', 'nee', 'need', 'never', 'new', 'news', 'next', 'nice', 'nigga', 'night', 'nightmar', 'nine', 'nobodi', 'nois', 'none', 'noth', 'notic', 'nowher', 'numb', 'number', 'ocean', 'oh', 'ohh', 'ohoh', 'ok', 'okay', 'old', 'one', 'ooh', 'oooh', 'open', 'other', 'outsid', 'outta', 'pack', 'page', 'pain', 'paint', 'paper', 'paradis', 'park', 'part', 'parti', 'pass', 'passion', 'past', 'path', 'pay', 'peac', 'peopl', 'perfect', 'person', 'phone', 'pick', 'pictur', 'piec', 'pill', 'place', 'plan', 'play', 'pleas', 'pleasur', 'pocket', 'point', 'poison', 'poor', 'pop', 'pour', 'power', 'pray', 'prayer', 'pressur', 'pretend', 'pretti', 'price', 'pride', 'probabl', 'problem', 'promis', 'pron', 'protect', 'proud', 'prove', 'pull', 'pure', 'push', 'pussi', 'put', 'queen', 'question', 'quick', 'quiet', 'quit', 'race', 'radio', 'rage', 'rain', 'rais', 'rap', 'rather', 'reach', 'read', 'readi', 'real', 'realiti', 'realiz', 'realli', 'reason', 'record', 'red', 'reflect', 'regret', 'releas', 'remain', 'rememb', 'remind', 'repeat', 'resist', 'rest', 'return', 'rhyme', 'rhythm', 'rich', 'ride', 'right', 'ring', 'rip', 'rise', 'river', 'road', 'rock', 'roll', 'room', 'rose', 'round', 'ruin', 'rule', 'run', 'runnin', 'rush', 'sad', 'safe', 'sail', 'sand', 'satisfi', 'save', 'say', 'scar', 'scare', 'scene', 'school', 'scream', 'sea', 'search', 'season', 'seat', 'second', 'secret', 'see', 'seek', 'seem', 'self', 'sell', 'send', 'sens', 'set', 'seven', 'sex', 'shade', 'shadow', 'shake', 'shall', 'shame', 'shape', 'share', 'shine', 'ship', 'shit', 'shoe', 'shoot', 'shore', 'short', 'shot', 'shoulder', 'shout', 'show', 'shut', 'sick', 'side', 'sight', 'sign', 'silenc', 'silent', 'silver', 'simpl', 'sin', 'sinc', 'sing', 'singl', 'sink', 'sister', 'sit', 'six', 'skin', 'sky', 'slave', 'sleep', 'slide', 'slip', 'slow', 'slowli', 'small', 'smell', 'smile', 'smoke', 'snow', 'soft', 'soldier', 'somebodi', 'someday', 'somehow', 'someon', 'someth', 'sometim', 'somewher', 'son', 'tfidf_song', 'soon', 'sorri', 'sorrow', 'soul', 'sound', 'space', 'spark', 'speak', 'special', 'speed', 'spell', 'spend', 'spin', 'spirit', 'spit', 'spread', 'spring', 'stand', 'star', 'stare', 'start', 'state', 'stay', 'steal', 'step', 'stick', 'still', 'stone', 'stop', 'stori', 'storm', 'straight', 'strang', 'stranger', 'street', 'strength', 'strike', 'strong', 'stuck', 'stuff', 'stupid', 'style', 'suck', 'sudden', 'suffer', 'sugar', 'summer', 'sun', 'sunday', 'sunshin', 'suppos', 'sure', 'surpris', 'surrend', 'surround', 'surviv', 'swallow', 'swear', 'sweat', 'sweet', 'swim', 'swing', 'tabl', 'take', 'talk', 'talkin', 'tall', 'tast', 'teach', 'tear', 'tell', 'ten', 'thank', 'thing', 'think', 'thinkin', 'though', 'thought', 'thousand', 'three', 'throw', 'thunder', 'tick', 'tide', 'tie', 'tight', 'til', 'till', 'time', 'tire', 'today', 'togeth', 'tomorrow', 'tongu', 'tonight', 'tooth', 'top', 'touch', 'tough', 'toward', 'town', 'track', 'train', 'trap', 'travel', 'treat', 'tree', 'tri', 'trick', 'trip', 'troubl', 'true', 'trust', 'truth', 'tryin', 'tryna', 'tune', 'turn', 'tv', 'twenti', 'twice', 'twist', 'two', 'type', 'uh', 'underneath', 'understand', 'univers', 'upon', 'us', 'use', 'vein', 'view', 'vision', 'voic', 'wait', 'wake', 'walk', 'wall', 'wander', 'want', 'war', 'warm', 'warn', 'wash', 'wast', 'watch', 'water', 'wave', 'way', 'weak', 'wear', 'weather', 'week', 'weight', 'welcom', 'well', 'west', 'wet', 'whatev', 'wheel', 'whenev', 'wherev', 'whisper', 'white', 'whoa', 'whole', 'wide', 'wife', 'wild', 'win', 'wind', 'window', 'wine', 'wing', 'winter', 'wish', 'wit', 'within', 'without', 'woah', 'wolf', 'woman', 'wonder', 'woo', 'wood', 'word', 'work', 'world', 'worri', 'worth', 'would', 'wound', 'wow', 'wrap', 'write', 'wrong', 'ya', 'yea', 'yeah', 'year', 'yellow', 'yes', 'yesterday', 'yet', 'yo', 'young', 'youth']\n",
      "\n",
      "Dropped 0 tracks due to missing TF-IDF vectors.\n",
      "Catalog size after merging TF-IDF vectors: 5148\n",
      "\n",
      "Sample of catalog_df:\n",
      "                 id               artist              song top_genre\n",
      "0  01rMxQv6vhyE1oQX  Against the Current    Chasing Ghosts      None\n",
      "1  02ZnlCGZEbkfCDxo        Laura Pausini  Tra Te E Il Mare      None\n",
      "2  04OjszRi9rC5BlHC         Grizzly Bear             Knife      None\n",
      "3  04iitW3ffa0mhpx3                Ne-Yo  Miss Independent      None\n",
      "4  04xUDjAYC14jsHyH           Jawbreaker     Jinx Removing      None\n"
     ]
    }
   ],
   "source": [
    "import pandas as pd\n",
    "import ast\n",
    "from sklearn.metrics.pairwise import cosine_similarity\n",
    "from sklearn.metrics import ndcg_score\n",
    "from scipy.sparse import csr_matrix\n",
    "import numpy as np\n",
    "\n",
    "# Define file paths\n",
    "DATA_DIR = 'data/'  # Update this path if your data is in a different directory\n",
    "INFORMATION_FILE = DATA_DIR + 'id_information_mmsr.tsv'\n",
    "GENRES_FILE = DATA_DIR + 'id_genres_mmsr.tsv'\n",
    "LYRICS_TFIDF_FILE = DATA_DIR + 'id_lyrics_tf-idf_mmsr.tsv'\n",
    "\n",
    "genres_df['genre'] = genres_df['genre'].apply(parse_genres)\n",
    "\n",
    "# Merge information and genres to create catalog\n",
    "catalog_df = pd.merge(information_df, genres_df, on='id', how='left')\n",
    "\n",
    "# Handle missing genres by assigning an empty list\n",
    "catalog_df['genre'] = catalog_df['genre'].apply(lambda x: x if isinstance(x, list) else [])\n",
    "\n",
    "catalog_df['top_genre'] = catalog_df['genre'].apply(get_top_genre)\n",
    "\n",
    "# Load precomputed TF-IDF vectors\n",
    "tfidf_df = pd.read_csv(LYRICS_TFIDF_FILE, sep='\\t')\n",
    "print(\"Loaded tfidf_df successfully.\")\n",
    "\n",
    "\n",
    "# Inspect the first few rows of tfidf_df\n",
    "print(\"\\nSample of tfidf_df:\")\n",
    "print(tfidf_df.head())\n",
    "\n",
    "# Check if 'song' exists in tfidf_df to avoid duplication during merge\n",
    "if 'song' in tfidf_df.columns:\n",
    "    # Rename 'song' in tfidf_df to prevent duplication\n",
    "    tfidf_df = tfidf_df.rename(columns={'song': 'tfidf_song'})\n",
    "    print(\"\\nRenamed 'song' column in tfidf_df to 'tfidf_song' to avoid duplication.\")\n",
    "\n",
    "# Merge TF-IDF vectors with catalog on 'id'\n",
    "catalog_df = pd.merge(catalog_df, tfidf_df, on='id', how='left')\n",
    "\n",
    "# Inspect columns after merging\n",
    "print(\"\\nColumns in catalog_df after merging TF-IDF:\")\n",
    "print(catalog_df.columns.tolist())\n",
    "\n",
    "# Identify TF-IDF feature columns (exclude 'id' and metadata columns)\n",
    "metadata_columns = ['artist', 'song', 'album_name', 'genre', 'top_genre']\n",
    "tfidf_feature_columns = [col for col in tfidf_df.columns if col != 'id' and col != 'tfidf_song']\n",
    "\n",
    "# Drop rows with any NaN in TF-IDF features to ensure complete data\n",
    "initial_catalog_size = len(catalog_df)\n",
    "catalog_df = catalog_df.dropna(subset=tfidf_feature_columns).reset_index(drop=True)\n",
    "final_catalog_size = len(catalog_df)\n",
    "dropped_rows = initial_catalog_size - final_catalog_size\n",
    "print(f\"\\nDropped {dropped_rows} tracks due to missing TF-IDF vectors.\")\n",
    "print(f\"Catalog size after merging TF-IDF vectors: {final_catalog_size}\")\n",
    "\n",
    "# Display the first few rows with relevant columns\n",
    "print(\"\\nSample of catalog_df:\")\n",
    "print(catalog_df[['id', 'artist', 'song', 'top_genre']].head())\n"
   ]
  },
  {
   "cell_type": "code",
   "execution_count": 93,
   "id": "f762ca0f-f691-4f07-b57d-b6548173bc96",
   "metadata": {},
   "outputs": [
    {
     "name": "stdout",
     "output_type": "stream",
     "text": [
      "\n",
      "TF-IDF matrix shape: (5148, 1000)\n"
     ]
    }
   ],
   "source": [
    "from scipy.sparse import csr_matrix\n",
    "\n",
    "# Separate track IDs and TF-IDF features\n",
    "track_ids = catalog_df['id'].tolist()\n",
    "\n",
    "# Extract TF-IDF features (ensure 'tfidf_song' is excluded)\n",
    "tfidf_features = catalog_df.drop(columns=['id', 'artist', 'song', 'album_name', 'genre', 'top_genre'])\n",
    "\n",
    "# Convert to a sparse matrix for efficient storage and computation\n",
    "tfidf_matrix = csr_matrix(tfidf_features.values)\n",
    "\n",
    "print(f\"\\nTF-IDF matrix shape: {tfidf_matrix.shape}\")"
   ]
  },
  {
   "cell_type": "code",
   "execution_count": 81,
   "id": "65294a15-1d04-4794-bb8a-9b721d51f2a2",
   "metadata": {},
   "outputs": [],
   "source": [
    "from sklearn.metrics.pairwise import cosine_similarity\n",
    "import numpy as np\n",
    "import pandas as pd\n",
    "\n",
    "def tfidf_retrieval(query_track_id, id_to_index, tfidf_matrix, track_ids, catalog_df, N=10):\n",
    "    \"\"\"\n",
    "    Retrieves N tracks most similar to the query track based on TF-IDF cosine similarity.\n",
    "\n",
    "    Parameters:\n",
    "    - query_track_id (str): The ID of the query track.\n",
    "    - id_to_index (dict): Mapping from track ID to matrix index.\n",
    "    - tfidf_matrix (csr_matrix): Sparse matrix of TF-IDF vectors.\n",
    "    - track_ids (list): List of track IDs corresponding to tfidf_matrix rows.\n",
    "    - catalog_df (pd.DataFrame): DataFrame containing track metadata.\n",
    "    - N (int): Number of tracks to retrieve.\n",
    "\n",
    "    Returns:\n",
    "    - retrieved_tracks_df (pd.DataFrame): DataFrame of retrieved tracks sorted by similarity.\n",
    "    \"\"\"\n",
    "    # Check if query_track_id exists\n",
    "    if query_track_id not in id_to_index:\n",
    "        print(f\"Query track ID {query_track_id} not found.\")\n",
    "        return pd.DataFrame()\n",
    "    \n",
    "    # Get the index of the query track\n",
    "    query_index = id_to_index[query_track_id]\n",
    "    \n",
    "    # Get the TF-IDF vector for the query track\n",
    "    query_vector = tfidf_matrix[query_index]\n",
    "    \n",
    "    # Compute cosine similarity between the query and all tracks\n",
    "    similarities = cosine_similarity(query_vector, tfidf_matrix).flatten()\n",
    "    \n",
    "    # Exclude the query track itself by setting its similarity to -1\n",
    "    similarities[query_index] = -1\n",
    "    \n",
    "    # Get the indices of the top N similar tracks\n",
    "    top_indices = similarities.argsort()[-N:][::-1]\n",
    "    \n",
    "    # Retrieve the corresponding track IDs and similarity scores\n",
    "    retrieved_ids = [track_ids[i] for i in top_indices]\n",
    "    retrieved_scores = [similarities[i] for i in top_indices]\n",
    "    \n",
    "    # Create a DataFrame for retrieved tracks\n",
    "    retrieved_tracks_df = pd.DataFrame({\n",
    "        'id': retrieved_ids,\n",
    "        'similarity': retrieved_scores\n",
    "    })\n",
    "    \n",
    "    # Merge with catalog_df to get track details\n",
    "    retrieved_tracks_df = pd.merge(retrieved_tracks_df, catalog_df[['id', 'artist', 'song', 'album_name']], on='id', how='left')\n",
    "    \n",
    "    return retrieved_tracks_df\n"
   ]
  },
  {
   "cell_type": "code",
   "execution_count": 84,
   "id": "1885d1ae-ac76-41fb-92d8-b63ed2c2223d",
   "metadata": {},
   "outputs": [
    {
     "name": "stdout",
     "output_type": "stream",
     "text": [
      "\n",
      "Starting evaluation of TF-IDF Retrieval System...\n",
      "\n",
      "Processed 500/5148 queries\n",
      "Processed 1000/5148 queries\n",
      "Processed 1500/5148 queries\n",
      "Processed 2000/5148 queries\n",
      "Processed 2500/5148 queries\n",
      "Processed 3000/5148 queries\n",
      "Processed 3500/5148 queries\n",
      "Processed 4000/5148 queries\n",
      "Processed 4500/5148 queries\n",
      "Processed 5000/5148 queries\n",
      "\n",
      "TF-IDF Retrieval Metrics:\n",
      "Precision@10: 0.0739\n",
      "Recall@10: 0.0037\n",
      "NDCG@10: 0.2040\n",
      "MRR: 0.1563\n"
     ]
    }
   ],
   "source": [
    "# Evaluation function\n",
    "def evaluate_tfidf_retrieval(catalog_df, tfidf_matrix, track_ids, id_to_index, N=10):\n",
    "    \"\"\"\n",
    "    Evaluates the TF-IDF retrieval system across all queries.\n",
    "\n",
    "    Parameters:\n",
    "    - catalog_df (pd.DataFrame): DataFrame containing all tracks with 'id' and 'top_genre'.\n",
    "    - tfidf_matrix (csr_matrix): Sparse matrix of TF-IDF vectors.\n",
    "    - track_ids (list): List of track IDs.\n",
    "    - id_to_index (dict): Mapping from track ID to index.\n",
    "    - N (int): Number of tracks to retrieve per query.\n",
    "\n",
    "    Returns:\n",
    "    - metrics_dict (dict): Dictionary containing average Precision@10, Recall@10, NDCG@10, and MRR.\n",
    "    \"\"\"\n",
    "    precisions = []\n",
    "    recalls = []\n",
    "    ndcgs = []\n",
    "    mrrs = []\n",
    "    \n",
    "    total_queries = len(catalog_df)\n",
    "    processed_queries = 0\n",
    "    \n",
    "    for index, query_track in catalog_df.iterrows():\n",
    "        query_id = query_track['id']\n",
    "        query_genre = query_track['top_genre']\n",
    "        \n",
    "        # Skip if no top genre\n",
    "        if not query_genre:\n",
    "            continue\n",
    "        \n",
    "        # Retrieve N tracks using TF-IDF retrieval\n",
    "        retrieved_tracks = tfidf_retrieval(\n",
    "            query_track_id=query_id,\n",
    "            id_to_index=id_to_index,\n",
    "            tfidf_matrix=tfidf_matrix,\n",
    "            track_ids=track_ids,\n",
    "            catalog_df=catalog_df,\n",
    "            N=N\n",
    "        )\n",
    "        \n",
    "        # If retrieval failed or no tracks retrieved, skip\n",
    "        if retrieved_tracks.empty:\n",
    "            continue\n",
    "        \n",
    "        retrieved_ids = retrieved_tracks['id'].tolist()\n",
    "        \n",
    "        # Define relevant tracks based on top genre\n",
    "        relevant_ids = catalog_df[catalog_df['top_genre'] == query_genre]['id'].tolist()\n",
    "        \n",
    "        # Compute metrics\n",
    "        p = precision_at_k(retrieved_ids, relevant_ids, k=N)\n",
    "        r = recall_at_k(retrieved_ids, relevant_ids, k=N)\n",
    "        ndcg = ndcg_at_k(retrieved_ids, relevant_ids, k=N)\n",
    "        rr = mrr_metric(retrieved_ids, relevant_ids)\n",
    "        \n",
    "        precisions.append(p)\n",
    "        recalls.append(r)\n",
    "        ndcgs.append(ndcg)\n",
    "        mrrs.append(rr)\n",
    "        \n",
    "        processed_queries += 1\n",
    "        if processed_queries % 500 == 0:\n",
    "            print(f\"Processed {processed_queries}/{total_queries} queries\")\n",
    "    \n",
    "    # Aggregate metrics\n",
    "    metrics_dict = {\n",
    "        'Precision@10': np.mean(precisions) if precisions else 0,\n",
    "        'Recall@10': np.mean(recalls) if recalls else 0,\n",
    "        'NDCG@10': np.mean(ndcgs) if ndcgs else 0,\n",
    "        'MRR': np.mean(mrrs) if mrrs else 0\n",
    "    }\n",
    "    \n",
    "    return metrics_dict\n",
    "\n",
    "# Main execution\n",
    "if __name__ == \"__main__\":\n",
    "    print(\"\\nStarting evaluation of TF-IDF Retrieval System...\\n\")\n",
    "    metrics = evaluate_tfidf_retrieval(catalog_df, tfidf_matrix, track_ids, id_to_index, N=10)\n",
    "    \n",
    "    print(\"\\nTF-IDF Retrieval Metrics:\")\n",
    "    print(f\"Precision@10: {metrics['Precision@10']:.4f}\")\n",
    "    print(f\"Recall@10: {metrics['Recall@10']:.4f}\")\n",
    "    print(f\"NDCG@10: {metrics['NDCG@10']:.4f}\")\n",
    "    print(f\"MRR: {metrics['MRR']:.4f}\")\n"
   ]
  },
  {
   "cell_type": "markdown",
   "id": "731ec0b5-acdf-446d-9b49-410a9a972f78",
   "metadata": {},
   "source": [
    "---\n",
    "##### Visualizations"
   ]
  },
  {
   "cell_type": "code",
   "execution_count": null,
   "id": "2e2bed8b-3a57-424e-b48e-4fa03790f314",
   "metadata": {},
   "outputs": [],
   "source": []
  },
  {
   "cell_type": "markdown",
   "id": "b94f45a0-8b47-410c-aaf5-980c6592a7e4",
   "metadata": {},
   "source": [
    "# 2. Beyond-Accuracy and Trade-Offs:\n",
    "#### Additional Modalities:\n",
    "- Select one text feature (e.g., word2vec or BERT).\n",
    "- Add two audio and two visual features with respective similarity metrics.\n",
    "- Evaluate accuracy metrics (same as Task 1).\n",
    "#### Beyond-Accuracy Metrics:\n",
    "- Compute retrievability/coverage, diversity, and popularity metrics.\n",
    "#### Optimization and Trade-Offs:\n",
    "- Implement diversity optimization.\n",
    "- Study trade-offs between NDCG and diversity."
   ]
  },
  {
   "cell_type": "code",
   "execution_count": null,
   "id": "7717826f-0f7a-4ce9-abe8-b56c8befc44d",
   "metadata": {},
   "outputs": [],
   "source": []
  },
  {
   "cell_type": "code",
   "execution_count": null,
   "id": "49297242-1017-4994-9922-04297e8bcc34",
   "metadata": {},
   "outputs": [],
   "source": []
  },
  {
   "cell_type": "markdown",
   "id": "b22c7e27-56a7-436a-9e8c-d4dcc6897d3f",
   "metadata": {},
   "source": [
    "# 3. Multimodal and Creative:\n",
    "#### New Retrieval System:\n",
    "- Devise a novel approach (e.g., LTR or LLMs).\n",
    "#### Fusion Methods:\n",
    "- Combine systems using early and late fusion techniques.\n",
    "#### Final System:\n",
    "- Evaluate accuracy and beyond-accuracy metrics.\n",
    "- Build a comprehensive, user-friendly UI.\n"
   ]
  },
  {
   "cell_type": "code",
   "execution_count": null,
   "id": "c55e1b29-db08-4ef4-aa3a-67eccbe55fd3",
   "metadata": {},
   "outputs": [],
   "source": []
  }
 ],
 "metadata": {
  "kernelspec": {
   "display_name": "Python 3 (ipykernel)",
   "language": "python",
   "name": "python3"
  },
  "language_info": {
   "codemirror_mode": {
    "name": "ipython",
    "version": 3
   },
   "file_extension": ".py",
   "mimetype": "text/x-python",
   "name": "python",
   "nbconvert_exporter": "python",
   "pygments_lexer": "ipython3",
   "version": "3.9.13"
  }
 },
 "nbformat": 4,
 "nbformat_minor": 5
}
